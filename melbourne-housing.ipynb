{
  "nbformat": 4,
  "nbformat_minor": 0,
  "metadata": {
    "language_info": {
      "codemirror_mode": {
        "name": "ipython",
        "version": 3
      },
      "file_extension": ".py",
      "mimetype": "text/x-python",
      "name": "python",
      "nbconvert_exporter": "python",
      "pygments_lexer": "ipython3",
      "version": "3.8.3-final"
    },
    "orig_nbformat": 2,
    "kernelspec": {
      "name": "Python 3.8.3 64-bit (conda)",
      "display_name": "Python 3.8.3 64-bit (conda)",
      "metadata": {
        "interpreter": {
          "hash": "80e249822db5758e05c7a95f2378bda83bb74a36814d9a884ba3a875cd74994c"
        }
      }
    },
    "colab": {
      "name": "MLFAB-exercise.ipynb",
      "provenance": []
    }
  },
  "cells": [
    {
      "cell_type": "markdown",
      "metadata": {
        "id": "c54dku34Ruj1"
      },
      "source": [
        "# Melbourne Housing Market\n",
        "Machine Learning Practice\n",
        "Algorithms used:\n",
        "- Gradient Boost Regressor"
      ]
    },
    {
      "cell_type": "markdown",
      "metadata": {
        "id": "v-stJuR6SIiH"
      },
      "source": [
        "## Import Dependencies"
      ]
    },
    {
      "cell_type": "code",
      "metadata": {
        "id": "iY36XGJY4JmP"
      },
      "source": [
        "# Import dependencies\n",
        "import pandas as pd\n",
        "from sklearn.model_selection import train_test_split\n",
        "from sklearn import ensemble\n",
        "from sklearn.metrics import mean_absolute_error\n",
        "from sklearn.model_selection import GridSearchCV\n",
        "# from sklearn.externals import joblib\n",
        "import joblib\n",
        "\n",
        "import datetime\n",
        "import time"
      ],
      "execution_count": 1,
      "outputs": []
    },
    {
      "cell_type": "markdown",
      "metadata": {
        "id": "yRSbNbytViw9"
      },
      "source": [
        "## Read in data from csv\n",
        "https://www.kaggle.com/anthonypino/melbourne-housing-market"
      ]
    },
    {
      "cell_type": "code",
      "metadata": {
        "id": "cpciCc794JmS"
      },
      "source": [
        "url = 'https://raw.githubusercontent.com/JacobMannix/melbourne-housing/main/data/Melbourne_housing_FULL.csv'\n",
        "df = pd.read_csv(url)"
      ],
      "execution_count": 2,
      "outputs": []
    },
    {
      "cell_type": "code",
      "metadata": {
        "id": "sdBJ8KKe4JmU"
      },
      "source": [
        "# Preview data\n",
        "df.head()"
      ],
      "execution_count": 3,
      "outputs": [
        {
          "output_type": "execute_result",
          "data": {
            "text/plain": [
              "       Suburb             Address  Rooms Type      Price Method SellerG  \\\n",
              "0  Abbotsford       68 Studley St      2    h        NaN     SS  Jellis   \n",
              "1  Abbotsford        85 Turner St      2    h  1480000.0      S  Biggin   \n",
              "2  Abbotsford     25 Bloomburg St      2    h  1035000.0      S  Biggin   \n",
              "3  Abbotsford  18/659 Victoria St      3    u        NaN     VB  Rounds   \n",
              "4  Abbotsford        5 Charles St      3    h  1465000.0     SP  Biggin   \n",
              "\n",
              "        Date  Distance  Postcode  ...  Bathroom  Car  Landsize  BuildingArea  \\\n",
              "0  3/09/2016       2.5    3067.0  ...       1.0  1.0     126.0           NaN   \n",
              "1  3/12/2016       2.5    3067.0  ...       1.0  1.0     202.0           NaN   \n",
              "2  4/02/2016       2.5    3067.0  ...       1.0  0.0     156.0          79.0   \n",
              "3  4/02/2016       2.5    3067.0  ...       2.0  1.0       0.0           NaN   \n",
              "4  4/03/2017       2.5    3067.0  ...       2.0  0.0     134.0         150.0   \n",
              "\n",
              "   YearBuilt         CouncilArea Lattitude  Longtitude             Regionname  \\\n",
              "0        NaN  Yarra City Council  -37.8014    144.9958  Northern Metropolitan   \n",
              "1        NaN  Yarra City Council  -37.7996    144.9984  Northern Metropolitan   \n",
              "2     1900.0  Yarra City Council  -37.8079    144.9934  Northern Metropolitan   \n",
              "3        NaN  Yarra City Council  -37.8114    145.0116  Northern Metropolitan   \n",
              "4     1900.0  Yarra City Council  -37.8093    144.9944  Northern Metropolitan   \n",
              "\n",
              "  Propertycount  \n",
              "0        4019.0  \n",
              "1        4019.0  \n",
              "2        4019.0  \n",
              "3        4019.0  \n",
              "4        4019.0  \n",
              "\n",
              "[5 rows x 21 columns]"
            ],
            "text/html": "<div>\n<style scoped>\n    .dataframe tbody tr th:only-of-type {\n        vertical-align: middle;\n    }\n\n    .dataframe tbody tr th {\n        vertical-align: top;\n    }\n\n    .dataframe thead th {\n        text-align: right;\n    }\n</style>\n<table border=\"1\" class=\"dataframe\">\n  <thead>\n    <tr style=\"text-align: right;\">\n      <th></th>\n      <th>Suburb</th>\n      <th>Address</th>\n      <th>Rooms</th>\n      <th>Type</th>\n      <th>Price</th>\n      <th>Method</th>\n      <th>SellerG</th>\n      <th>Date</th>\n      <th>Distance</th>\n      <th>Postcode</th>\n      <th>...</th>\n      <th>Bathroom</th>\n      <th>Car</th>\n      <th>Landsize</th>\n      <th>BuildingArea</th>\n      <th>YearBuilt</th>\n      <th>CouncilArea</th>\n      <th>Lattitude</th>\n      <th>Longtitude</th>\n      <th>Regionname</th>\n      <th>Propertycount</th>\n    </tr>\n  </thead>\n  <tbody>\n    <tr>\n      <th>0</th>\n      <td>Abbotsford</td>\n      <td>68 Studley St</td>\n      <td>2</td>\n      <td>h</td>\n      <td>NaN</td>\n      <td>SS</td>\n      <td>Jellis</td>\n      <td>3/09/2016</td>\n      <td>2.5</td>\n      <td>3067.0</td>\n      <td>...</td>\n      <td>1.0</td>\n      <td>1.0</td>\n      <td>126.0</td>\n      <td>NaN</td>\n      <td>NaN</td>\n      <td>Yarra City Council</td>\n      <td>-37.8014</td>\n      <td>144.9958</td>\n      <td>Northern Metropolitan</td>\n      <td>4019.0</td>\n    </tr>\n    <tr>\n      <th>1</th>\n      <td>Abbotsford</td>\n      <td>85 Turner St</td>\n      <td>2</td>\n      <td>h</td>\n      <td>1480000.0</td>\n      <td>S</td>\n      <td>Biggin</td>\n      <td>3/12/2016</td>\n      <td>2.5</td>\n      <td>3067.0</td>\n      <td>...</td>\n      <td>1.0</td>\n      <td>1.0</td>\n      <td>202.0</td>\n      <td>NaN</td>\n      <td>NaN</td>\n      <td>Yarra City Council</td>\n      <td>-37.7996</td>\n      <td>144.9984</td>\n      <td>Northern Metropolitan</td>\n      <td>4019.0</td>\n    </tr>\n    <tr>\n      <th>2</th>\n      <td>Abbotsford</td>\n      <td>25 Bloomburg St</td>\n      <td>2</td>\n      <td>h</td>\n      <td>1035000.0</td>\n      <td>S</td>\n      <td>Biggin</td>\n      <td>4/02/2016</td>\n      <td>2.5</td>\n      <td>3067.0</td>\n      <td>...</td>\n      <td>1.0</td>\n      <td>0.0</td>\n      <td>156.0</td>\n      <td>79.0</td>\n      <td>1900.0</td>\n      <td>Yarra City Council</td>\n      <td>-37.8079</td>\n      <td>144.9934</td>\n      <td>Northern Metropolitan</td>\n      <td>4019.0</td>\n    </tr>\n    <tr>\n      <th>3</th>\n      <td>Abbotsford</td>\n      <td>18/659 Victoria St</td>\n      <td>3</td>\n      <td>u</td>\n      <td>NaN</td>\n      <td>VB</td>\n      <td>Rounds</td>\n      <td>4/02/2016</td>\n      <td>2.5</td>\n      <td>3067.0</td>\n      <td>...</td>\n      <td>2.0</td>\n      <td>1.0</td>\n      <td>0.0</td>\n      <td>NaN</td>\n      <td>NaN</td>\n      <td>Yarra City Council</td>\n      <td>-37.8114</td>\n      <td>145.0116</td>\n      <td>Northern Metropolitan</td>\n      <td>4019.0</td>\n    </tr>\n    <tr>\n      <th>4</th>\n      <td>Abbotsford</td>\n      <td>5 Charles St</td>\n      <td>3</td>\n      <td>h</td>\n      <td>1465000.0</td>\n      <td>SP</td>\n      <td>Biggin</td>\n      <td>4/03/2017</td>\n      <td>2.5</td>\n      <td>3067.0</td>\n      <td>...</td>\n      <td>2.0</td>\n      <td>0.0</td>\n      <td>134.0</td>\n      <td>150.0</td>\n      <td>1900.0</td>\n      <td>Yarra City Council</td>\n      <td>-37.8093</td>\n      <td>144.9944</td>\n      <td>Northern Metropolitan</td>\n      <td>4019.0</td>\n    </tr>\n  </tbody>\n</table>\n<p>5 rows × 21 columns</p>\n</div>"
          },
          "metadata": {},
          "execution_count": 3
        }
      ]
    },
    {
      "cell_type": "markdown",
      "metadata": {
        "id": "Kzsw-31TWDjd"
      },
      "source": [
        "## Clean Data"
      ]
    },
    {
      "cell_type": "markdown",
      "metadata": {
        "id": "iUmOj0cuWGJV"
      },
      "source": [
        "### Delete unneeded columns"
      ]
    },
    {
      "cell_type": "code",
      "metadata": {
        "id": "5Vr9hfbI4JmX"
      },
      "source": [
        "list = ('Address', 'Method', 'SellerG', 'Date', 'Postcode', 'Lattitude', 'Longtitude', 'Regionname', 'Propertycount')\n",
        "for col in list:\n",
        "    del df[col]"
      ],
      "execution_count": 4,
      "outputs": []
    },
    {
      "cell_type": "markdown",
      "metadata": {
        "id": "372H50V8WKXT"
      },
      "source": [
        "### Remove rows with missing values"
      ]
    },
    {
      "cell_type": "code",
      "metadata": {
        "id": "B0747Wlx4Jmb"
      },
      "source": [
        "df.dropna(axis=0, how='any', thresh=None, subset=None, inplace=True)"
      ],
      "execution_count": 5,
      "outputs": []
    },
    {
      "cell_type": "markdown",
      "metadata": {
        "id": "8CUYtG-aWNrI"
      },
      "source": [
        "### Convert non-numerical data using one-hot encoding"
      ]
    },
    {
      "cell_type": "code",
      "metadata": {
        "id": "6cNLIy6s4Jmf"
      },
      "source": [
        "features_df = pd.get_dummies(df, columns = ['Suburb', 'CouncilArea', 'Type'])"
      ],
      "execution_count": 6,
      "outputs": []
    },
    {
      "cell_type": "code",
      "metadata": {
        "id": "R9AH8FsG4Jmi"
      },
      "source": [
        "del features_df['Price']"
      ],
      "execution_count": 7,
      "outputs": []
    },
    {
      "cell_type": "markdown",
      "metadata": {
        "id": "csz_IaCoXoE7"
      },
      "source": [
        "## Prepare data for model"
      ]
    },
    {
      "cell_type": "markdown",
      "metadata": {
        "id": "X4_747VzWS_s"
      },
      "source": [
        "### Create X and y arrays from the dataset"
      ]
    },
    {
      "cell_type": "code",
      "metadata": {
        "id": "CuyKcShW4Jml"
      },
      "source": [
        "X = features_df.values\n",
        "y = df['Price'].values"
      ],
      "execution_count": 8,
      "outputs": []
    },
    {
      "cell_type": "markdown",
      "metadata": {
        "id": "nGBIhwdLWV-u"
      },
      "source": [
        "### Split data into test/train set (70/30 split) and shuffle"
      ]
    },
    {
      "cell_type": "code",
      "metadata": {
        "id": "AuXEKqHD4Jmn"
      },
      "source": [
        "X_train, X_test, y_train, y_test = train_test_split(X, y, test_size = 0.3, random_state = 0)"
      ],
      "execution_count": 9,
      "outputs": []
    },
    {
      "cell_type": "markdown",
      "metadata": {
        "id": "HswJYyiW4Jmp"
      },
      "source": [
        "## Regular Model"
      ]
    },
    {
      "cell_type": "code",
      "metadata": {
        "id": "-_waBM0a4Jmr"
      },
      "source": [
        "# Setting up model\n",
        "# model = ensemble.GradientBoostingRegressor(\n",
        "#     n_estimators=250,\n",
        "#     learning_rate=0.1,\n",
        "#     max_depth=5,\n",
        "#     min_samples_split=4,\n",
        "#     min_samples_leaf=6,\n",
        "#     max_features=0.6,\n",
        "#     loss='huber'\n",
        "# )"
      ],
      "execution_count": 10,
      "outputs": []
    },
    {
      "cell_type": "code",
      "metadata": {
        "id": "VGtW7WgQ4Jmu"
      },
      "source": [
        "# Run model on training data\n",
        "# model.fit(X_train, y_train)"
      ],
      "execution_count": 11,
      "outputs": []
    },
    {
      "cell_type": "code",
      "metadata": {
        "id": "ynwkEOxr4Jmx"
      },
      "source": [
        "# Save Model to file\n",
        "# joblib.dump(model, 'models/trained_model.pkl')"
      ],
      "execution_count": 12,
      "outputs": []
    },
    {
      "cell_type": "markdown",
      "metadata": {
        "id": "Ri1TH2bK4Jm1"
      },
      "source": [
        "## Grid Search"
      ]
    },
    {
      "cell_type": "markdown",
      "metadata": {
        "id": "Qvbsn29_WlrA"
      },
      "source": [
        "### Define model"
      ]
    },
    {
      "cell_type": "markdown",
      "metadata": {
        "id": "WAU89FQ7WoC4"
      },
      "source": [
        "### Setup grid search"
      ]
    },
    {
      "cell_type": "code",
      "metadata": {
        "id": "N_COsBoQ4Jm1"
      },
      "source": [
        "# Setting up Grid Search\n",
        "model = ensemble.GradientBoostingRegressor()\n",
        "\n",
        "param_grid = {\n",
        "    'learning_rate': [0.1], # 0.01,0.02,0.6,0.7\n",
        "    'loss': ['huber'], # 'ls','lad','huber'\n",
        "    'max_depth': [6], # 5,6,7,9,11\n",
        "    'max_features': [0.3], # 0.1,0.2,0.3,0.4,0.5,0.6,0.7,0.8,0.9\n",
        "    'min_samples_leaf': [6], # 5,6,7\n",
        "    'min_samples_split': [4], # 3,4,5\n",
        "    'n_estimators': [300] # 100, 200, 300,600,1000\n",
        "}"
      ],
      "execution_count": 13,
      "outputs": []
    },
    {
      "cell_type": "markdown",
      "metadata": {
        "id": "_pofWzPGW9nc"
      },
      "source": [
        "### Define Grid Search\n",
        "Run with four CPUs in parallel if applicable."
      ]
    },
    {
      "cell_type": "code",
      "execution_count": 14,
      "metadata": {},
      "outputs": [
        {
          "output_type": "execute_result",
          "data": {
            "text/plain": [
              "4"
            ]
          },
          "metadata": {},
          "execution_count": 14
        }
      ],
      "source": [
        "import multiprocessing\n",
        "multiprocessing.cpu_count()"
      ]
    },
    {
      "cell_type": "code",
      "metadata": {
        "id": "d2Q68foG4Jm3"
      },
      "source": [
        "gs_cv = GridSearchCV(model, param_grid, n_jobs=4)"
      ],
      "execution_count": 15,
      "outputs": []
    },
    {
      "cell_type": "markdown",
      "metadata": {
        "id": "sUDhk16lXBQX"
      },
      "source": [
        "### Run grid search on training data\n",
        "+ keep track of time"
      ]
    },
    {
      "cell_type": "code",
      "metadata": {
        "id": "uP-uuuqc4Jm5"
      },
      "source": [
        "start_time = datetime.datetime.now()\n",
        "gs_cv.fit(X_train, y_train)\n",
        "print(datetime.datetime.now()-start_time)"
      ],
      "execution_count": 16,
      "outputs": [
        {
          "output_type": "stream",
          "name": "stdout",
          "text": [
            "0:00:53.542258\n"
          ]
        }
      ]
    },
    {
      "cell_type": "markdown",
      "metadata": {
        "id": "BxklHdekXEwb"
      },
      "source": [
        "### Print optimal hyperparameters"
      ]
    },
    {
      "cell_type": "code",
      "metadata": {
        "id": "eBAsMR8r4Jm9"
      },
      "source": [
        "print(gs_cv.best_params_)"
      ],
      "execution_count": 17,
      "outputs": [
        {
          "output_type": "stream",
          "name": "stdout",
          "text": [
            "{'learning_rate': 0.1, 'loss': 'huber', 'max_depth': 6, 'max_features': 0.3, 'min_samples_leaf': 6, 'min_samples_split': 4, 'n_estimators': 300}\n"
          ]
        }
      ]
    },
    {
      "cell_type": "markdown",
      "metadata": {
        "id": "qkYJnEiTXYFo"
      },
      "source": [
        "### Check model accuracy\n",
        "(2 decimal places)"
      ]
    },
    {
      "cell_type": "code",
      "metadata": {
        "id": "NMc5uog54Jm_"
      },
      "source": [
        "# Check model accuracy (2 decimal places)\n",
        "mse_train = mean_absolute_error(y_train, gs_cv.predict(X_train))\n",
        "print('Training Set Mean Absolute Error: ${:,.2f}'.format(mse_train))\n",
        "\n",
        "mse_test = mean_absolute_error(y_test, gs_cv.predict(X_test))\n",
        "print('Test Set Mean Absolute Error: ${:,.2f}'.format(mse_test))"
      ],
      "execution_count": 18,
      "outputs": [
        {
          "output_type": "stream",
          "name": "stdout",
          "text": [
            "Training Set Mean Absolute Error: $112,816.69\n",
            "Test Set Mean Absolute Error: $155,261.10\n"
          ]
        }
      ]
    }
  ]
}