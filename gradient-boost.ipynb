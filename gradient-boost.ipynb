{
  "nbformat": 4,
  "nbformat_minor": 0,
  "metadata": {
    "language_info": {
      "codemirror_mode": {
        "name": "ipython",
        "version": 3
      },
      "file_extension": ".py",
      "mimetype": "text/x-python",
      "name": "python",
      "nbconvert_exporter": "python",
      "pygments_lexer": "ipython3",
      "version": "3.8.3-final"
    },
    "orig_nbformat": 2,
    "kernelspec": {
      "name": "Python 3.8.3 64-bit (conda)",
      "display_name": "Python 3.8.3 64-bit (conda)",
      "metadata": {
        "interpreter": {
          "hash": "80e249822db5758e05c7a95f2378bda83bb74a36814d9a884ba3a875cd74994c"
        }
      }
    },
    "colab": {
      "name": "MLFAB-exercise.ipynb",
      "provenance": []
    }
  },
  "cells": [
    {
      "cell_type": "markdown",
      "metadata": {
        "id": "c54dku34Ruj1"
      },
      "source": [
        "# Melbourne Housing Market\n",
        "## Analysis\n",
        "Machine Learning Practice\n",
        "Algorithms used:\n",
        "- Gradient Boost Regressor"
      ]
    },
    {
      "cell_type": "code",
      "metadata": {
        "id": "iY36XGJY4JmP"
      },
      "source": [
        "# Import dependencies\n",
        "import pandas as pd\n",
        "from sklearn.model_selection import train_test_split\n",
        "from sklearn import ensemble\n",
        "from sklearn.metrics import mean_absolute_error\n",
        "from sklearn.model_selection import GridSearchCV\n",
        "# from sklearn.externals import joblib\n",
        "import joblib\n",
        "\n",
        "import datetime\n",
        "import time"
      ],
      "execution_count": 1,
      "outputs": []
    },
    {
      "cell_type": "markdown",
      "metadata": {
        "id": "yRSbNbytViw9"
      },
      "source": [
        "## Read in data"
      ]
    },
    {
      "cell_type": "code",
      "metadata": {
        "id": "cpciCc794JmS"
      },
      "source": [
        "features_df = pd.read_csv('https://raw.githubusercontent.com/JacobMannix/melbourne-housing/main/data/cleaned_df.csv')"
      ],
      "execution_count": 51,
      "outputs": []
    },
    {
      "cell_type": "code",
      "execution_count": 52,
      "metadata": {},
      "outputs": [],
      "source": [
        "df['Price'] = features_df['Price']\n",
        "del features_df['Price']"
      ]
    },
    {
      "cell_type": "code",
      "metadata": {
        "id": "sdBJ8KKe4JmU"
      },
      "source": [
        "# Preview data\n",
        "features_df.head()\n",
        "# df.head()"
      ],
      "execution_count": 53,
      "outputs": [
        {
          "output_type": "execute_result",
          "data": {
            "text/plain": [
              "   Rooms  Distance  Bedroom2  Bathroom  Car  Landsize  BuildingArea  \\\n",
              "0      2       2.5       2.0       1.0  0.0     156.0          79.0   \n",
              "1      3       2.5       3.0       2.0  0.0     134.0         150.0   \n",
              "2      4       2.5       3.0       1.0  2.0     120.0         142.0   \n",
              "3      3       2.5       4.0       2.0  0.0     245.0         210.0   \n",
              "4      2       2.5       2.0       1.0  2.0     256.0         107.0   \n",
              "\n",
              "   YearBuilt  Suburb_Abbotsford  Suburb_Aberfeldie  ...  \\\n",
              "0     1900.0                  1                  0  ...   \n",
              "1     1900.0                  1                  0  ...   \n",
              "2     2014.0                  1                  0  ...   \n",
              "3     1910.0                  1                  0  ...   \n",
              "4     1890.0                  1                  0  ...   \n",
              "\n",
              "   CouncilArea_Port Phillip City Council  \\\n",
              "0                                      0   \n",
              "1                                      0   \n",
              "2                                      0   \n",
              "3                                      0   \n",
              "4                                      0   \n",
              "\n",
              "   CouncilArea_Stonnington City Council  CouncilArea_Whitehorse City Council  \\\n",
              "0                                     0                                    0   \n",
              "1                                     0                                    0   \n",
              "2                                     0                                    0   \n",
              "3                                     0                                    0   \n",
              "4                                     0                                    0   \n",
              "\n",
              "   CouncilArea_Whittlesea City Council  CouncilArea_Wyndham City Council  \\\n",
              "0                                    0                                 0   \n",
              "1                                    0                                 0   \n",
              "2                                    0                                 0   \n",
              "3                                    0                                 0   \n",
              "4                                    0                                 0   \n",
              "\n",
              "   CouncilArea_Yarra City Council  CouncilArea_Yarra Ranges Shire Council  \\\n",
              "0                               1                                       0   \n",
              "1                               1                                       0   \n",
              "2                               1                                       0   \n",
              "3                               1                                       0   \n",
              "4                               1                                       0   \n",
              "\n",
              "   Type_h  Type_t  Type_u  \n",
              "0       1       0       0  \n",
              "1       1       0       0  \n",
              "2       1       0       0  \n",
              "3       1       0       0  \n",
              "4       1       0       0  \n",
              "\n",
              "[5 rows x 359 columns]"
            ],
            "text/html": "<div>\n<style scoped>\n    .dataframe tbody tr th:only-of-type {\n        vertical-align: middle;\n    }\n\n    .dataframe tbody tr th {\n        vertical-align: top;\n    }\n\n    .dataframe thead th {\n        text-align: right;\n    }\n</style>\n<table border=\"1\" class=\"dataframe\">\n  <thead>\n    <tr style=\"text-align: right;\">\n      <th></th>\n      <th>Rooms</th>\n      <th>Distance</th>\n      <th>Bedroom2</th>\n      <th>Bathroom</th>\n      <th>Car</th>\n      <th>Landsize</th>\n      <th>BuildingArea</th>\n      <th>YearBuilt</th>\n      <th>Suburb_Abbotsford</th>\n      <th>Suburb_Aberfeldie</th>\n      <th>...</th>\n      <th>CouncilArea_Port Phillip City Council</th>\n      <th>CouncilArea_Stonnington City Council</th>\n      <th>CouncilArea_Whitehorse City Council</th>\n      <th>CouncilArea_Whittlesea City Council</th>\n      <th>CouncilArea_Wyndham City Council</th>\n      <th>CouncilArea_Yarra City Council</th>\n      <th>CouncilArea_Yarra Ranges Shire Council</th>\n      <th>Type_h</th>\n      <th>Type_t</th>\n      <th>Type_u</th>\n    </tr>\n  </thead>\n  <tbody>\n    <tr>\n      <th>0</th>\n      <td>2</td>\n      <td>2.5</td>\n      <td>2.0</td>\n      <td>1.0</td>\n      <td>0.0</td>\n      <td>156.0</td>\n      <td>79.0</td>\n      <td>1900.0</td>\n      <td>1</td>\n      <td>0</td>\n      <td>...</td>\n      <td>0</td>\n      <td>0</td>\n      <td>0</td>\n      <td>0</td>\n      <td>0</td>\n      <td>1</td>\n      <td>0</td>\n      <td>1</td>\n      <td>0</td>\n      <td>0</td>\n    </tr>\n    <tr>\n      <th>1</th>\n      <td>3</td>\n      <td>2.5</td>\n      <td>3.0</td>\n      <td>2.0</td>\n      <td>0.0</td>\n      <td>134.0</td>\n      <td>150.0</td>\n      <td>1900.0</td>\n      <td>1</td>\n      <td>0</td>\n      <td>...</td>\n      <td>0</td>\n      <td>0</td>\n      <td>0</td>\n      <td>0</td>\n      <td>0</td>\n      <td>1</td>\n      <td>0</td>\n      <td>1</td>\n      <td>0</td>\n      <td>0</td>\n    </tr>\n    <tr>\n      <th>2</th>\n      <td>4</td>\n      <td>2.5</td>\n      <td>3.0</td>\n      <td>1.0</td>\n      <td>2.0</td>\n      <td>120.0</td>\n      <td>142.0</td>\n      <td>2014.0</td>\n      <td>1</td>\n      <td>0</td>\n      <td>...</td>\n      <td>0</td>\n      <td>0</td>\n      <td>0</td>\n      <td>0</td>\n      <td>0</td>\n      <td>1</td>\n      <td>0</td>\n      <td>1</td>\n      <td>0</td>\n      <td>0</td>\n    </tr>\n    <tr>\n      <th>3</th>\n      <td>3</td>\n      <td>2.5</td>\n      <td>4.0</td>\n      <td>2.0</td>\n      <td>0.0</td>\n      <td>245.0</td>\n      <td>210.0</td>\n      <td>1910.0</td>\n      <td>1</td>\n      <td>0</td>\n      <td>...</td>\n      <td>0</td>\n      <td>0</td>\n      <td>0</td>\n      <td>0</td>\n      <td>0</td>\n      <td>1</td>\n      <td>0</td>\n      <td>1</td>\n      <td>0</td>\n      <td>0</td>\n    </tr>\n    <tr>\n      <th>4</th>\n      <td>2</td>\n      <td>2.5</td>\n      <td>2.0</td>\n      <td>1.0</td>\n      <td>2.0</td>\n      <td>256.0</td>\n      <td>107.0</td>\n      <td>1890.0</td>\n      <td>1</td>\n      <td>0</td>\n      <td>...</td>\n      <td>0</td>\n      <td>0</td>\n      <td>0</td>\n      <td>0</td>\n      <td>0</td>\n      <td>1</td>\n      <td>0</td>\n      <td>1</td>\n      <td>0</td>\n      <td>0</td>\n    </tr>\n  </tbody>\n</table>\n<p>5 rows × 359 columns</p>\n</div>"
          },
          "metadata": {},
          "execution_count": 53
        }
      ]
    },
    {
      "source": [
        "## Prepare data fir test/train split"
      ],
      "cell_type": "markdown",
      "metadata": {}
    },
    {
      "cell_type": "code",
      "metadata": {
        "id": "CuyKcShW4Jml"
      },
      "source": [
        "X = features_df.values\n",
        "y = df['Price'].values"
      ],
      "execution_count": 54,
      "outputs": []
    },
    {
      "cell_type": "markdown",
      "metadata": {
        "id": "nGBIhwdLWV-u"
      },
      "source": [
        "### Split data into test/train set (70/30 split) and shuffle"
      ]
    },
    {
      "cell_type": "code",
      "metadata": {
        "id": "AuXEKqHD4Jmn"
      },
      "source": [
        "X_train, X_test, y_train, y_test = train_test_split(X, y, test_size = 0.3, random_state = 0)"
      ],
      "execution_count": 55,
      "outputs": []
    },
    {
      "cell_type": "markdown",
      "metadata": {
        "id": "HswJYyiW4Jmp"
      },
      "source": [
        "## Regular Model"
      ]
    },
    {
      "cell_type": "code",
      "metadata": {
        "id": "-_waBM0a4Jmr"
      },
      "source": [
        "# Setting up model\n",
        "# model = ensemble.GradientBoostingRegressor(\n",
        "#     n_estimators=250,\n",
        "#     learning_rate=0.1,\n",
        "#     max_depth=5,\n",
        "#     min_samples_split=4,\n",
        "#     min_samples_leaf=6,\n",
        "#     max_features=0.6,\n",
        "#     loss='huber'\n",
        "# )"
      ],
      "execution_count": 10,
      "outputs": []
    },
    {
      "cell_type": "code",
      "metadata": {
        "id": "VGtW7WgQ4Jmu"
      },
      "source": [
        "# Run model on training data\n",
        "# model.fit(X_train, y_train)"
      ],
      "execution_count": 11,
      "outputs": []
    },
    {
      "cell_type": "code",
      "metadata": {
        "id": "ynwkEOxr4Jmx"
      },
      "source": [
        "# Save Model to file\n",
        "# joblib.dump(model, 'models/trained_model.pkl')"
      ],
      "execution_count": 12,
      "outputs": []
    },
    {
      "cell_type": "markdown",
      "metadata": {
        "id": "Ri1TH2bK4Jm1"
      },
      "source": [
        "## Grid Search"
      ]
    },
    {
      "cell_type": "markdown",
      "metadata": {
        "id": "Qvbsn29_WlrA"
      },
      "source": [
        "### Define model"
      ]
    },
    {
      "cell_type": "markdown",
      "metadata": {
        "id": "WAU89FQ7WoC4"
      },
      "source": [
        "### Setup grid search"
      ]
    },
    {
      "cell_type": "code",
      "metadata": {
        "id": "N_COsBoQ4Jm1"
      },
      "source": [
        "# Setting up Grid Search\n",
        "model = ensemble.GradientBoostingRegressor()\n",
        "\n",
        "param_grid = {\n",
        "    'learning_rate': [0.1], # 0.01,0.02,0.6,0.7\n",
        "    'loss': ['huber'], # 'ls','lad','huber'\n",
        "    'max_depth': [6], # 5,6,7,9,11\n",
        "    'max_features': [0.3], # 0.1,0.2,0.3,0.4,0.5,0.6,0.7,0.8,0.9\n",
        "    'min_samples_leaf': [6], # 5,6,7\n",
        "    'min_samples_split': [4], # 3,4,5\n",
        "    'n_estimators': [300] # 100, 200, 300,600,1000\n",
        "}"
      ],
      "execution_count": 62,
      "outputs": []
    },
    {
      "cell_type": "markdown",
      "metadata": {
        "id": "_pofWzPGW9nc"
      },
      "source": [
        "### Define Grid Search\n",
        "Run with four CPUs in parallel if applicable."
      ]
    },
    {
      "cell_type": "code",
      "execution_count": 63,
      "metadata": {},
      "outputs": [
        {
          "output_type": "execute_result",
          "data": {
            "text/plain": [
              "4"
            ]
          },
          "metadata": {},
          "execution_count": 63
        }
      ],
      "source": [
        "import multiprocessing\n",
        "multiprocessing.cpu_count()"
      ]
    },
    {
      "cell_type": "code",
      "metadata": {
        "id": "d2Q68foG4Jm3"
      },
      "source": [
        "gs_cv = GridSearchCV(model, param_grid, n_jobs=4)"
      ],
      "execution_count": 64,
      "outputs": []
    },
    {
      "cell_type": "markdown",
      "metadata": {
        "id": "sUDhk16lXBQX"
      },
      "source": [
        "### Run grid search on training data\n",
        "+ keep track of time"
      ]
    },
    {
      "cell_type": "code",
      "metadata": {
        "id": "uP-uuuqc4Jm5"
      },
      "source": [
        "start_time = datetime.datetime.now()\n",
        "gs_cv.fit(X_train, y_train)\n",
        "print(datetime.datetime.now()-start_time)"
      ],
      "execution_count": 65,
      "outputs": [
        {
          "output_type": "stream",
          "name": "stdout",
          "text": [
            "0:01:01.604245\n"
          ]
        }
      ]
    },
    {
      "cell_type": "markdown",
      "metadata": {
        "id": "BxklHdekXEwb"
      },
      "source": [
        "### Print optimal hyperparameters"
      ]
    },
    {
      "cell_type": "code",
      "metadata": {
        "id": "eBAsMR8r4Jm9"
      },
      "source": [
        "print(gs_cv.best_params_)"
      ],
      "execution_count": 66,
      "outputs": [
        {
          "output_type": "stream",
          "name": "stdout",
          "text": [
            "{'learning_rate': 0.1, 'loss': 'huber', 'max_depth': 6, 'max_features': 0.3, 'min_samples_leaf': 6, 'min_samples_split': 4, 'n_estimators': 300}\n"
          ]
        }
      ]
    },
    {
      "cell_type": "markdown",
      "metadata": {
        "id": "qkYJnEiTXYFo"
      },
      "source": [
        "### Check model accuracy\n",
        "(2 decimal places)"
      ]
    },
    {
      "cell_type": "code",
      "metadata": {
        "id": "NMc5uog54Jm_"
      },
      "source": [
        "# Check model accuracy (2 decimal places)\n",
        "mse_train = mean_absolute_error(y_train, gs_cv.predict(X_train))\n",
        "print('Training Set Mean Absolute Error: ${:,.2f}'.format(mse_train))\n",
        "\n",
        "mse_test = mean_absolute_error(y_test, gs_cv.predict(X_test))\n",
        "print('Test Set Mean Absolute Error: ${:,.2f}'.format(mse_test))"
      ],
      "execution_count": 18,
      "outputs": [
        {
          "output_type": "stream",
          "name": "stdout",
          "text": [
            "Training Set Mean Absolute Error: $112,816.69\n",
            "Test Set Mean Absolute Error: $155,261.10\n"
          ]
        }
      ]
    }
  ]
}